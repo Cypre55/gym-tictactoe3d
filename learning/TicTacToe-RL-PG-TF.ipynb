{
 "cells": [
  {
   "cell_type": "code",
   "execution_count": 1,
   "metadata": {},
   "outputs": [],
   "source": [
    "import numpy as np\n",
    "import gym\n",
    "import gym_tictactoe as t3\n",
    "import tensorflow as tf\n",
    "from tensorflow.contrib.layers import fully_connected"
   ]
  },
  {
   "cell_type": "code",
   "execution_count": 2,
   "metadata": {},
   "outputs": [],
   "source": [
    "n_input = (3 * 3 * 3) * 3\n",
    "n_hidden = 1000\n",
    "n_output = 3 * 3 * 3\n",
    "\n",
    "checkpoint_path = 'my_tictactoe.ckpt'\n",
    "initializer = tf.contrib.layers.variance_scaling_initializer()\n",
    "\n",
    "learning_rate = 0.01"
   ]
  },
  {
   "cell_type": "code",
   "execution_count": 3,
   "metadata": {},
   "outputs": [],
   "source": [
    "from sklearn.preprocessing import LabelBinarizer\n",
    "encoder = LabelBinarizer()\n",
    "encoder.fit(np.array([[0], [1], [2]]))\n",
    "\n",
    "def create_network(X_state, n_hidden, n_output, scope):\n",
    "    with tf.variable_scope(scope) as scope:\n",
    "        hidden = fully_connected(X_state, n_hidden, activation_fn=tf.nn.relu, weights_initializer=initializer)\n",
    "        logit = fully_connected(hidden, n_output, activation_fn=None, weights_initializer=initializer)\n",
    "        return logit\n",
    "\n",
    "def convert_game_world(obs):\n",
    "    # gym_tictactoe now supports int-encoded world\n",
    "    world = np.array(obs, dtype=np.float32)\n",
    "    data = list(map(lambda x: [x], world.flatten()))\n",
    "    return encoder.transform(data).flatten()\n",
    "\n",
    "def convert_action_to_step(action, player):\n",
    "    val = 0\n",
    "    multiplier = 1\n",
    "    while action:\n",
    "        val += (action%3)*multiplier\n",
    "        multiplier *= 10\n",
    "        action //= 3\n",
    "    \n",
    "    return str(player) + str(val).zfill(3)"
   ]
  },
  {
   "cell_type": "code",
   "execution_count": 6,
   "metadata": {},
   "outputs": [],
   "source": [
    "optimizer = tf.train.AdamOptimizer(learning_rate)\n",
    "\n",
    "networks = []\n",
    "outputs = []\n",
    "ys = []\n",
    "cross_entropies = []\n",
    "gradients = []\n",
    "\n",
    "X_state = tf.placeholder(shape=(None, n_input), dtype=tf.float32, name='X')\n",
    "logits_1 = create_network(X_state, n_hidden, n_output, 'network_1')\n",
    "logits_2 = create_network(X_state, n_hidden, n_output, 'network_2')\n",
    "networks.append(logits_1)\n",
    "networks.append(logits_2)\n",
    "\n",
    "for network in networks:\n",
    "    output = tf.contrib.layers.softmax(network)\n",
    "    outputs.append(output)\n",
    "    \n",
    "    y = tf.to_float(tf.multinomial(tf.log(output), num_samples=n_output))\n",
    "    ys.append(y)\n",
    "\n",
    "    cross_entropy = tf.nn.sigmoid_cross_entropy_with_logits(labels=y, logits=network)\n",
    "    cross_entropies.append(cross_entropy)\n",
    "\n",
    "    grad = optimizer.compute_gradients(cross_entropy)\n",
    "    gradients.append(grad)\n",
    "\n",
    "init = tf.global_variables_initializer()\n",
    "saver = tf.train.Saver()"
   ]
  },
  {
   "cell_type": "code",
   "execution_count": 7,
   "metadata": {},
   "outputs": [],
   "source": [
    "env = gym.make('tictactoe-v0')\n",
    "obs = env.reset()"
   ]
  },
  {
   "cell_type": "code",
   "execution_count": 8,
   "metadata": {
    "scrolled": true
   },
   "outputs": [
    {
     "name": "stdout",
     "output_type": "stream",
     "text": [
      "0 ==> 2000\n",
      "1 ==> 2001\n",
      "2 ==> 2002\n",
      "3 ==> 2010\n",
      "4 ==> 2011\n",
      "5 ==> 2012\n",
      "6 ==> 2020\n",
      "7 ==> 2021\n",
      "8 ==> 2022\n",
      "9 ==> 2100\n",
      "10 ==> 2101\n",
      "11 ==> 2102\n",
      "12 ==> 2110\n",
      "13 ==> 2111\n",
      "14 ==> 2112\n",
      "15 ==> 2120\n",
      "16 ==> 2121\n",
      "17 ==> 2122\n",
      "18 ==> 2200\n",
      "19 ==> 2201\n",
      "20 ==> 2202\n",
      "21 ==> 2210\n",
      "22 ==> 2211\n",
      "23 ==> 2212\n",
      "24 ==> 2220\n",
      "25 ==> 2221\n",
      "26 ==> 2222\n"
     ]
    }
   ],
   "source": [
    "for i in range(27):\n",
    "    s = convert_action_to_step(i, 2)\n",
    "    print(i, '==>', s)"
   ]
  },
  {
   "cell_type": "code",
   "execution_count": 9,
   "metadata": {},
   "outputs": [
    {
     "data": {
      "text/plain": [
       "array([1, 0, 0, 1, 0, 0, 1, 0, 0, 1, 0, 0, 1, 0, 0, 1, 0, 0, 1, 0, 0, 1,\n",
       "       0, 0, 1, 0, 0, 1, 0, 0, 1, 0, 0, 1, 0, 0, 1, 0, 0, 1, 0, 0, 1, 0,\n",
       "       0, 1, 0, 0, 1, 0, 0, 1, 0, 0, 1, 0, 0, 1, 0, 0, 1, 0, 0, 1, 0, 0,\n",
       "       1, 0, 0, 1, 0, 0, 1, 0, 0, 1, 0, 0, 1, 0, 0])"
      ]
     },
     "execution_count": 9,
     "metadata": {},
     "output_type": "execute_result"
    }
   ],
   "source": [
    "convert_game_world(obs)"
   ]
  },
  {
   "cell_type": "code",
   "execution_count": 17,
   "metadata": {},
   "outputs": [
    {
     "name": "stdout",
     "output_type": "stream",
     "text": [
      "Game rewards: 1\n"
     ]
    }
   ],
   "source": [
    "n_games = 1\n",
    "with tf.Session() as sess:\n",
    "    init.run()\n",
    "    for i in range(n_games):\n",
    "        env = gym.make('tictactoe-v0')\n",
    "        obs = env.reset()\n",
    "        turn = 0\n",
    "        done = False\n",
    "        game_rewards = 0\n",
    "        while not done:\n",
    "            for i in range(3):\n",
    "                for j in range(3):\n",
    "                    for k in range(3):\n",
    "                        obs, reward, done, info = env.step('{}{}{}{}'.format(turn%2+1, i, j, k))\n",
    "                        world = convert_game_world(obs)            \n",
    "                        output[0].eval(feed_dict={X_state: [world]})\n",
    "                        game_rewards += reward\n",
    "                        turn += 1\n",
    "                        if done:\n",
    "                            break\n",
    "                    if done:\n",
    "                        break\n",
    "                if done:\n",
    "                    break\n",
    "        print('Game rewards:', game_rewards)"
   ]
  },
  {
   "cell_type": "code",
   "execution_count": 18,
   "metadata": {},
   "outputs": [
    {
     "name": "stdout",
     "output_type": "stream",
     "text": [
      "x o x    - - -    - - -    \n",
      "o x -    - - -    - - -    \n",
      "x o -    - - -    - - -    \n"
     ]
    }
   ],
   "source": [
    "env.render()"
   ]
  },
  {
   "cell_type": "code",
   "execution_count": null,
   "metadata": {},
   "outputs": [],
   "source": []
  }
 ],
 "metadata": {
  "kernelspec": {
   "display_name": "Python 3",
   "language": "python",
   "name": "python3"
  },
  "language_info": {
   "codemirror_mode": {
    "name": "ipython",
    "version": 3
   },
   "file_extension": ".py",
   "mimetype": "text/x-python",
   "name": "python",
   "nbconvert_exporter": "python",
   "pygments_lexer": "ipython3",
   "version": "3.6.5"
  }
 },
 "nbformat": 4,
 "nbformat_minor": 2
}
